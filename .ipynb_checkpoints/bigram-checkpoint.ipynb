{
 "cells": [
  {
   "cell_type": "code",
   "execution_count": 116,
   "id": "939d7fd1-6a6c-405b-91bd-f7021c656ff6",
   "metadata": {},
   "outputs": [
    {
     "name": "stdout",
     "output_type": "stream",
     "text": [
      "mps\n"
     ]
    }
   ],
   "source": [
    "import pandas as pd\n",
    "\n",
    "import torch\n",
    "import torch.nn as nn\n",
    "import torch.nn.functional as F\n",
    "device = 'mps' if torch.backends.mps.is_built() else 'cpu'\n",
    "print(device)\n",
    "\n",
    "block_size = 8\n",
    "batch_size = 4\n",
    "max_iters = 10000\n",
    "eval_iters = 250\n",
    "learning_rate = 3e-4"
   ]
  },
  {
   "cell_type": "code",
   "execution_count": 75,
   "id": "e7dc34d0-d8c8-4899-929f-765cbd82cf6c",
   "metadata": {},
   "outputs": [],
   "source": [
    "df = pd.read_csv('data/oas_pair.csv')"
   ]
  },
  {
   "cell_type": "code",
   "execution_count": 128,
   "id": "541c1262-aa55-4ae7-b534-38f633059a2f",
   "metadata": {},
   "outputs": [
    {
     "name": "stdout",
     "output_type": "stream",
     "text": [
      "['\\n', 'A', 'C', 'D', 'E', 'F', 'G', 'H', 'I', 'K', 'L', 'M', 'N', 'P', 'Q', 'R', 'S', 'T', 'V', 'W', 'Y']\n"
     ]
    }
   ],
   "source": [
    "# text = '$'.join([h+'#'+l for h, l in zip(df.heavy, df.light)])\n",
    "text = '\\n'.join([*df.heavy, *df.light])\n",
    "chars = sorted(set(text))\n",
    "print(chars)\n",
    "vocab_size = len(chars)"
   ]
  },
  {
   "cell_type": "code",
   "execution_count": 129,
   "id": "4ce84dda-0cf0-4814-9641-7c6792c8f06b",
   "metadata": {},
   "outputs": [],
   "source": [
    "string_to_int = {ch: i for i, ch in enumerate(chars)}\n",
    "int_to_string = {i: ch for ch, i in string_to_int.items()}\n",
    "encode = lambda s: [string_to_int[c] for c in s]\n",
    "decode = lambda l: \"\".join([int_to_string[i] for i in l])\n",
    "\n",
    "assert decode(encode(df.heavy.iloc[0])) == df.heavy.iloc[0]"
   ]
  },
  {
   "cell_type": "code",
   "execution_count": 130,
   "id": "912e47cb-452b-46cc-868b-e08bd5641da2",
   "metadata": {},
   "outputs": [],
   "source": [
    "data = torch.tensor(encode(text), dtype=torch.long)"
   ]
  },
  {
   "cell_type": "code",
   "execution_count": 131,
   "id": "2a816fea-46e9-4b59-bf39-d569081bb8d8",
   "metadata": {},
   "outputs": [],
   "source": [
    "n = int(0.8*len(data))\n",
    "train_data = data[:n]\n",
    "val_data = data[n:]\n",
    "\n",
    "def get_batch(split):\n",
    "    data = train_data if split == 'train' else val_data\n",
    "    ix = torch.randint(len(data) - block_size, (batch_size,))\n",
    "    x = torch.stack([data[i: i+block_size] for i in ix])\n",
    "    y = torch.stack([data[i+1: i+block_size+1] for i in ix])\n",
    "    x, y = x.to(device), y.to(device)\n",
    "    return x, y\n",
    "    "
   ]
  },
  {
   "cell_type": "code",
   "execution_count": 132,
   "id": "9b3ba6fd-f5e7-4011-b93b-b5381cd320bd",
   "metadata": {},
   "outputs": [],
   "source": [
    "class BigramLM(nn.Module):\n",
    "    def __init__(self, vocab_size):\n",
    "        super().__init__()\n",
    "        self.token_embedding_table = nn.Embedding(vocab_size, vocab_size)\n",
    "\n",
    "    def forward(self, index, targets=None):\n",
    "        logits = self.token_embedding_table(index)\n",
    "        if targets is None:\n",
    "            loss = None\n",
    "        else:\n",
    "            B, T, C = logits.shape\n",
    "            logits = logits.view(B*T, C)\n",
    "            targets = targets.view(B*T)\n",
    "            loss = F.cross_entropy(logits, targets)\n",
    "        return logits, loss\n",
    "\n",
    "    def generate(self, index, max_new_tokens):\n",
    "        for _ in range(max_new_tokens):\n",
    "            logits, loss = self.forward(index) # logits: B, T, C\n",
    "            logits = logits[:, -1, :] # B, C\n",
    "            probs = F.softmax(logits, dim=-1) # B, C\n",
    "            index_next = torch.multinomial(probs, num_samples=1) # B, 1\n",
    "            index = torch.cat([index, index_next], dim=1) # B, T+1\n",
    "        return index"
   ]
  },
  {
   "cell_type": "code",
   "execution_count": 133,
   "id": "52556cb4-8a47-4a65-acdc-ea06946ec36c",
   "metadata": {},
   "outputs": [],
   "source": [
    "model = BigramLM(vocab_size).to(device)"
   ]
  },
  {
   "cell_type": "code",
   "execution_count": 134,
   "id": "3fc7ceb3-e023-4048-b8c0-b28aaeb7b1d9",
   "metadata": {},
   "outputs": [],
   "source": [
    "context = torch.zeros((1, 1), dtype=torch.long, device=device)\n",
    "generated_chars = decode(model.generate(context, max_new_tokens=500)[0].tolist())"
   ]
  },
  {
   "cell_type": "code",
   "execution_count": 137,
   "id": "ff771a4d-f10b-4b84-8ffe-dc29f5ccabb1",
   "metadata": {},
   "outputs": [
    {
     "data": {
      "text/plain": [
       "['',\n",
       " 'ARWFIYHTQMQLHCRSEWNPHTTDVHHTSKKRASRFKRPQIF',\n",
       " 'FVPKCKHDINCHCHDLNQIAYIDIDITIVM',\n",
       " 'ATSKFPCGQRACC',\n",
       " 'NRTESCAGGGTGQF',\n",
       " 'HTVCWLVTLLYSDSVDQMGKR',\n",
       " 'QLLLMQGKDITR',\n",
       " 'DS',\n",
       " 'TNRITDSRVMRIAMGDIFITDYFYYIAGKWNRPQVPKYNWICGTNLNRMSGFVCGQLNMLDVMQGKYSHHSPLHHCEWNLLWFIQKKNWAGKFIWYSRITVFAY',\n",
       " '',\n",
       " 'S',\n",
       " 'FAGVNGDVISPFIACKRMKMHHRSKPQEQLYVRIAF',\n",
       " 'MKTS',\n",
       " 'NEQMQIFIAGLAFVEQKKRPWVQVRLLDMQHHHEWTRHDITWNCRWNWTVKRAQSMRTTDFYSINLWYIFASAGEWPPMKKKYYYIFSAPPK',\n",
       " 'S',\n",
       " 'QMVHHSGNCKCKRTQLLANCGQMY',\n",
       " 'MEHGSHDFYEHVHHDVFIWYIRT',\n",
       " 'APQMKKTQCEWF',\n",
       " 'QHESMGKHQTYHINYYIQVQLWKFNTYYITIVRRTDISRIHCWACGQCKKTF']"
      ]
     },
     "execution_count": 137,
     "metadata": {},
     "output_type": "execute_result"
    }
   ],
   "source": [
    "generated_chars.split('\\n')"
   ]
  },
  {
   "cell_type": "code",
   "execution_count": 141,
   "id": "b5b3ea35-d934-4ffa-a399-9355969161c6",
   "metadata": {},
   "outputs": [],
   "source": [
    "@torch.no_grad()\n",
    "def estimate_loss():\n",
    "    out = {}\n",
    "    model.eval()\n",
    "    for split in ['train', 'val']:\n",
    "        losses = torch.zeros(eval_iters)\n",
    "        for k in range(eval_iters):\n",
    "            X, Y = get_batch(split)\n",
    "            logits, loss = model(X, Y)\n",
    "            losses[k] = loss.item()\n",
    "        out[split] = losses.mean()\n",
    "    model.train()\n",
    "    return out"
   ]
  },
  {
   "cell_type": "code",
   "execution_count": 146,
   "id": "42f1f179-ed4a-4085-8af7-efe44634b2c1",
   "metadata": {},
   "outputs": [
    {
     "name": "stdout",
     "output_type": "stream",
     "text": [
      "Step: 0, Train Loss 2.7605, Val Loss 2.8184\n",
      "Step: 250, Train Loss 2.7654, Val Loss 2.8153\n",
      "Step: 500, Train Loss 2.7328, Val Loss 2.7908\n",
      "Step: 750, Train Loss 2.7193, Val Loss 2.7952\n",
      "Step: 1000, Train Loss 2.7336, Val Loss 2.7834\n",
      "Step: 1250, Train Loss 2.7344, Val Loss 2.7829\n",
      "Step: 1500, Train Loss 2.7219, Val Loss 2.7845\n",
      "Step: 1750, Train Loss 2.7175, Val Loss 2.7696\n",
      "Step: 2000, Train Loss 2.7004, Val Loss 2.7706\n",
      "Step: 2250, Train Loss 2.6968, Val Loss 2.7525\n",
      "Step: 2500, Train Loss 2.6984, Val Loss 2.7455\n",
      "Step: 2750, Train Loss 2.6894, Val Loss 2.7674\n",
      "Step: 3000, Train Loss 2.6744, Val Loss 2.7550\n",
      "Step: 3250, Train Loss 2.6943, Val Loss 2.7377\n",
      "Step: 3500, Train Loss 2.6798, Val Loss 2.7471\n",
      "Step: 3750, Train Loss 2.6755, Val Loss 2.7318\n",
      "Step: 4000, Train Loss 2.6818, Val Loss 2.7320\n",
      "Step: 4250, Train Loss 2.6921, Val Loss 2.7203\n",
      "Step: 4500, Train Loss 2.6692, Val Loss 2.7378\n",
      "Step: 4750, Train Loss 2.6821, Val Loss 2.7341\n",
      "Step: 5000, Train Loss 2.6755, Val Loss 2.7099\n",
      "Step: 5250, Train Loss 2.6497, Val Loss 2.7161\n",
      "Step: 5500, Train Loss 2.6570, Val Loss 2.7100\n",
      "Step: 5750, Train Loss 2.6476, Val Loss 2.7351\n",
      "Step: 6000, Train Loss 2.6568, Val Loss 2.7188\n",
      "Step: 6250, Train Loss 2.6455, Val Loss 2.7009\n",
      "Step: 6500, Train Loss 2.6598, Val Loss 2.7044\n",
      "Step: 6750, Train Loss 2.6402, Val Loss 2.6956\n",
      "Step: 7000, Train Loss 2.6332, Val Loss 2.7010\n",
      "Step: 7250, Train Loss 2.6353, Val Loss 2.7078\n",
      "Step: 7500, Train Loss 2.6297, Val Loss 2.7019\n",
      "Step: 7750, Train Loss 2.6239, Val Loss 2.7036\n",
      "Step: 8000, Train Loss 2.6231, Val Loss 2.6959\n",
      "Step: 8250, Train Loss 2.6154, Val Loss 2.6935\n",
      "Step: 8500, Train Loss 2.6308, Val Loss 2.7107\n",
      "Step: 8750, Train Loss 2.6125, Val Loss 2.6947\n",
      "Step: 9000, Train Loss 2.6122, Val Loss 2.6933\n",
      "Step: 9250, Train Loss 2.6076, Val Loss 2.6841\n",
      "Step: 9500, Train Loss 2.6117, Val Loss 2.6970\n",
      "Step: 9750, Train Loss 2.6203, Val Loss 2.6955\n",
      "2.7186121940612793\n"
     ]
    }
   ],
   "source": [
    "optimizer = torch.optim.AdamW(model.parameters(), lr=learning_rate)\n",
    "\n",
    "for iter in range(max_iters):\n",
    "    if iter % eval_iters == 0:\n",
    "        losses = estimate_loss()\n",
    "        print(f\"Step: {iter}, Train Loss {losses['train']:.4f}, Val Loss {losses['val']:.4f}\")\n",
    "    xb, yb = get_batch('train')\n",
    "    logits, loss = model(xb, yb)\n",
    "    optimizer.zero_grad(set_to_none = True)\n",
    "    loss.backward()\n",
    "    optimizer.step()\n",
    "print(loss.item())"
   ]
  },
  {
   "cell_type": "code",
   "execution_count": 147,
   "id": "2d09d99e-027d-4840-b2c1-a96a980d669f",
   "metadata": {},
   "outputs": [
    {
     "data": {
      "text/plain": [
       "'\\nISLFSVKSGKQGSWSVPKLTTHISYLFTLLEPGG\\nDASNWGTDSRLVKHSYYPGYYNWYFCQIGGTEGGLTAGSMHSYRSDIVAYNYCRVSKSGTVASNANQMEWYSYYYRFARFCIIKSCIGPWFKKAWYAINRDTNARLYRGSGEYTGKPGFNYWMVSEWLEINGGQMSDTMHGTALVFLSQGSRQLLSIYISCKAVDRVRDMQLQNSSFDSSSWGMGPGKGGERISGTSGPGTVDMQPYWVYALVTFIRVTGMPSTVSGSDESSQGSGKQLRDEDIASGWGTLVWIYNYEAPS\\nLRFKGYYSNPSGRDTQDSHHIQGKGQNSGRFTFNRVTEDYGYFS\\nEISVLTVTFASS\\nEVSGQADIVLEWGRYSSFTSESRLSAAIKPAYYNSYYYLSGPKPQGTESYWIRARHGVTVQHCAEDTYMSPSDFTLSCEIKDQVTLKIYAEDYYYYAISPTYGRNLRQITLTNYYYWVKGLMNPTSERQEDAPRLVHAKLSTNGK'"
      ]
     },
     "execution_count": 147,
     "metadata": {},
     "output_type": "execute_result"
    }
   ],
   "source": [
    "context = torch.zeros((1, 1), dtype=torch.long, device=device)\n",
    "generated_text = decode(model.generate(context, max_new_tokens=500)[0].tolist())\n",
    "generated_text"
   ]
  },
  {
   "cell_type": "code",
   "execution_count": 148,
   "id": "265ee764-9ef8-4854-8281-553cbc15145a",
   "metadata": {},
   "outputs": [
    {
     "data": {
      "text/plain": [
       "['',\n",
       " 'ISLFSVKSGKQGSWSVPKLTTHISYLFTLLEPGG',\n",
       " 'DASNWGTDSRLVKHSYYPGYYNWYFCQIGGTEGGLTAGSMHSYRSDIVAYNYCRVSKSGTVASNANQMEWYSYYYRFARFCIIKSCIGPWFKKAWYAINRDTNARLYRGSGEYTGKPGFNYWMVSEWLEINGGQMSDTMHGTALVFLSQGSRQLLSIYISCKAVDRVRDMQLQNSSFDSSSWGMGPGKGGERISGTSGPGTVDMQPYWVYALVTFIRVTGMPSTVSGSDESSQGSGKQLRDEDIASGWGTLVWIYNYEAPS',\n",
       " 'LRFKGYYSNPSGRDTQDSHHIQGKGQNSGRFTFNRVTEDYGYFS',\n",
       " 'EISVLTVTFASS',\n",
       " 'EVSGQADIVLEWGRYSSFTSESRLSAAIKPAYYNSYYYLSGPKPQGTESYWIRARHGVTVQHCAEDTYMSPSDFTLSCEIKDQVTLKIYAEDYYYYAISPTYGRNLRQITLTNYYYWVKGLMNPTSERQEDAPRLVHAKLSTNGK']"
      ]
     },
     "execution_count": 148,
     "metadata": {},
     "output_type": "execute_result"
    }
   ],
   "source": [
    "generated_text.split('\\n')"
   ]
  },
  {
   "cell_type": "code",
   "execution_count": null,
   "id": "dbaeb38a-4b64-405d-a71b-579caf9e8cf7",
   "metadata": {},
   "outputs": [],
   "source": []
  }
 ],
 "metadata": {
  "kernelspec": {
   "display_name": "Python 3.11 (torch)",
   "language": "python",
   "name": "pytorch"
  },
  "language_info": {
   "codemirror_mode": {
    "name": "ipython",
    "version": 3
   },
   "file_extension": ".py",
   "mimetype": "text/x-python",
   "name": "python",
   "nbconvert_exporter": "python",
   "pygments_lexer": "ipython3",
   "version": "3.11.6"
  }
 },
 "nbformat": 4,
 "nbformat_minor": 5
}
